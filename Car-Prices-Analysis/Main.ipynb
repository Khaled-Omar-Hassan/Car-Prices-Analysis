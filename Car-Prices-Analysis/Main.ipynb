{
 "cells": [
  {
   "cell_type": "markdown",
   "source": [
    "## Import Libraries"
   ],
   "metadata": {
    "collapsed": false
   },
   "id": "bdef7ba53b175e06"
  },
  {
   "cell_type": "code",
   "outputs": [],
   "source": [
    "# Importing necessary libraries\n",
    "import numpy as np\n",
    "import pandas as pd\n",
    "import plotly.graph_objects as go\n",
    "import plotly.express as px\n",
    "import plotly.figure_factory as ff\n",
    "\n",
    "pd.set_option('future.no_silent_downcasting', True)"
   ],
   "metadata": {
    "collapsed": true
   },
   "id": "initial_id",
   "execution_count": null
  },
  {
   "cell_type": "markdown",
   "source": [
    "## Read & Understand Data"
   ],
   "metadata": {
    "collapsed": false
   },
   "id": "963ad749a61e8ed4"
  },
  {
   "cell_type": "code",
   "outputs": [],
   "source": [
    "# Reading the dataset\n",
    "df = pd.read_csv('Sources/car_prices.csv')"
   ],
   "metadata": {
    "collapsed": false
   },
   "id": "6c14d17841a87483",
   "execution_count": null
  },
  {
   "cell_type": "code",
   "outputs": [],
   "source": [
    "df.head(5)"
   ],
   "metadata": {
    "collapsed": false
   },
   "id": "2a89e936ec858544",
   "execution_count": null
  },
  {
   "cell_type": "code",
   "outputs": [],
   "source": [
    "df.info()"
   ],
   "metadata": {
    "collapsed": false
   },
   "id": "af30979ff6553247",
   "execution_count": null
  },
  {
   "cell_type": "markdown",
   "source": [
    "## Data Cleaning"
   ],
   "metadata": {
    "collapsed": false
   },
   "id": "d2676ad0b636d1ae"
  },
  {
   "cell_type": "code",
   "outputs": [],
   "source": [
    "#Renaming Columns\n",
    "df.rename(columns={'make': 'brand'}, inplace=True)"
   ],
   "metadata": {
    "collapsed": false
   },
   "id": "82018689e896187a",
   "execution_count": null
  },
  {
   "cell_type": "code",
   "outputs": [],
   "source": [
    "# Converting 'saledate' to datetime format\n",
    "df.saledate = df.saledate.apply(lambda x: str(x)[:-6])\n",
    "df.saledate = pd.to_datetime(df.saledate, format='%a %b %d %Y %H:%M:%S GMT%z', utc=True, errors='coerce')"
   ],
   "metadata": {
    "collapsed": false
   },
   "id": "ca1ba5b65d79a5dc",
   "execution_count": null
  },
  {
   "cell_type": "code",
   "outputs": [],
   "source": [
    "# Extracting day and month from 'saledate'\n",
    "df['day'] = df['saledate'].dt.day_name()\n",
    "df['month'] = df['saledate'].dt.month_name()"
   ],
   "metadata": {
    "collapsed": false
   },
   "id": "f3c1c91f8a0977af",
   "execution_count": null
  },
  {
   "cell_type": "code",
   "outputs": [],
   "source": [
    "df.info()"
   ],
   "metadata": {
    "collapsed": false
   },
   "id": "65ba80738db33eb3",
   "execution_count": null
  },
  {
   "cell_type": "code",
   "outputs": [],
   "source": [
    "# Dropping unnecessary columns\n",
    "df.drop(['mmr', 'vin', 'trim'], axis=1, inplace=True)"
   ],
   "metadata": {
    "collapsed": false
   },
   "id": "e6989b3d666e2db0",
   "execution_count": null
  },
  {
   "cell_type": "code",
   "outputs": [],
   "source": [
    "df.head()"
   ],
   "metadata": {
    "collapsed": false
   },
   "id": "8188e91151763bda",
   "execution_count": null
  },
  {
   "cell_type": "code",
   "outputs": [],
   "source": [
    "# Checking unique values in certain columns\n",
    "df.year.unique()"
   ],
   "metadata": {
    "collapsed": false
   },
   "id": "4c56b120221ed9b5",
   "execution_count": null
  },
  {
   "cell_type": "code",
   "outputs": [],
   "source": [
    "df.brand.unique()  # Problem with capitalization"
   ],
   "metadata": {
    "collapsed": false
   },
   "id": "ba9c1c165c099d87",
   "execution_count": null
  },
  {
   "cell_type": "code",
   "outputs": [],
   "source": [
    "df.model.unique()  # Problem with capitalization"
   ],
   "metadata": {
    "collapsed": false
   },
   "id": "9df5cc0b081c16c5",
   "execution_count": null
  },
  {
   "cell_type": "code",
   "outputs": [],
   "source": [
    "df.body.unique()  # Problem with capitalization"
   ],
   "metadata": {
    "collapsed": false
   },
   "id": "2a0558fa87bfc540",
   "execution_count": null
  },
  {
   "cell_type": "code",
   "outputs": [],
   "source": [
    "df.transmission.unique()  # Null values + \"sedan\""
   ],
   "metadata": {
    "collapsed": false
   },
   "id": "238f38c3bd71992a",
   "execution_count": null
  },
  {
   "cell_type": "code",
   "outputs": [],
   "source": [
    "df.state.unique()  # Wrong Values"
   ],
   "metadata": {
    "collapsed": false
   },
   "id": "b99e2c164bcb1412",
   "execution_count": null
  },
  {
   "cell_type": "code",
   "outputs": [],
   "source": [
    "df.color.unique()  # Wrong data + '-'"
   ],
   "metadata": {
    "collapsed": false
   },
   "id": "119f00a537756914",
   "execution_count": null
  },
  {
   "cell_type": "code",
   "outputs": [],
   "source": [
    "df.interior.unique()  # Wrong data + '-'"
   ],
   "metadata": {
    "collapsed": false
   },
   "id": "a9bf4f4fbe1114ce",
   "execution_count": null
  },
  {
   "cell_type": "code",
   "outputs": [],
   "source": [
    "df.seller.unique()"
   ],
   "metadata": {
    "collapsed": false
   },
   "id": "f714113d67978ea3",
   "execution_count": null
  },
  {
   "cell_type": "code",
   "outputs": [],
   "source": [
    "# Handling capitalization issues in object columns\n",
    "for col in df.select_dtypes(include=['object']).columns:\n",
    "    df[col] = df[col].str.title()\n",
    "    print(col, df[col].unique(), \"\\n\\n\")"
   ],
   "metadata": {
    "collapsed": false
   },
   "id": "303fb1687ff6249d",
   "execution_count": null
  },
  {
   "cell_type": "code",
   "outputs": [],
   "source": [
    "# Dropping rows with incorrect 'transmission' values\n",
    "df[df.transmission.isin([\"sedan\", \"Sedan\"])]"
   ],
   "metadata": {
    "collapsed": false
   },
   "id": "cc65dade053fc99e",
   "execution_count": null
  },
  {
   "cell_type": "code",
   "outputs": [],
   "source": [
    "df.drop(df[df.transmission.isin([\"sedan\", \"Sedan\"])].index, inplace=True, axis=0)\n",
    "df.reset_index(inplace=True, drop=True)"
   ],
   "metadata": {
    "collapsed": false
   },
   "id": "126fc6d8abdefa18",
   "execution_count": null
  },
  {
   "cell_type": "code",
   "outputs": [],
   "source": [
    "df.transmission.unique()"
   ],
   "metadata": {
    "collapsed": false
   },
   "id": "1083fd03b9b972b2",
   "execution_count": null
  },
  {
   "cell_type": "code",
   "outputs": [],
   "source": [
    "# Handling erroneous entries in 'state' column\n",
    "df[df.state.str.len() > 2]"
   ],
   "metadata": {
    "collapsed": false
   },
   "id": "5613ab79c853922e",
   "execution_count": null
  },
  {
   "cell_type": "code",
   "outputs": [],
   "source": [
    "# Handling numeric values in 'color' and 'interior' columns\n",
    "df[df.color.apply(lambda x: str(x).isnumeric() if pd.notnull(x) else False)]\n",
    "#also fixed"
   ],
   "metadata": {
    "collapsed": false
   },
   "id": "b1e2b2f5236a375c",
   "execution_count": null
  },
  {
   "cell_type": "code",
   "outputs": [],
   "source": [
    "#handling numeric values in interior\n",
    "df[df.interior.apply(lambda x: str(x).isnumeric() if pd.notnull(x) else False)]\n",
    "#also fixed"
   ],
   "metadata": {
    "collapsed": false
   },
   "id": "fa7d90c5de3a7a96",
   "execution_count": null
  },
  {
   "cell_type": "code",
   "outputs": [],
   "source": [
    "df.head()"
   ],
   "metadata": {
    "collapsed": false
   },
   "id": "f89de98c93f23078",
   "execution_count": null
  },
  {
   "cell_type": "code",
   "outputs": [],
   "source": [
    "# Mapping State abbreviations to their full names\n",
    "abbrev_to_us_State = {\n",
    "    \"al\": \"Alabama\",\n",
    "    \"ak\": \"Alaska\",\n",
    "    \"az\": \"Arizona\",\n",
    "    \"ar\": \"Arkansas\",\n",
    "    \"ca\": \"California\",\n",
    "    \"co\": \"Colorado\",\n",
    "    \"ct\": \"Connecticut\",\n",
    "    \"de\": \"Delaware\",\n",
    "    \"fl\": \"Florida\",\n",
    "    \"ga\": \"Georgia\",\n",
    "    \"hi\": \"Hawaii\",\n",
    "    \"id\": \"Idaho\",\n",
    "    \"il\": \"Illinois\",\n",
    "    \"in\": \"Indiana\",\n",
    "    \"ia\": \"Iowa\",\n",
    "    \"ks\": \"Kansas\",\n",
    "    \"ky\": \"Kentucky\",\n",
    "    \"la\": \"Louisiana\",\n",
    "    \"me\": \"Maine\",\n",
    "    \"md\": \"Maryland\",\n",
    "    \"ma\": \"Massachusetts\",\n",
    "    \"mi\": \"Michigan\",\n",
    "    \"mn\": \"Minnesota\",\n",
    "    \"ms\": \"Mississippi\",\n",
    "    \"mo\": \"Missouri\",\n",
    "    \"mt\": \"Montana\",\n",
    "    \"ne\": \"Nebraska\",\n",
    "    \"nv\": \"Nevada\",\n",
    "    \"nh\": \"New Hampshire\",\n",
    "    \"nj\": \"New Jersey\",\n",
    "    \"nm\": \"New Mexico\",\n",
    "    \"ny\": \"New York\",\n",
    "    \"nc\": \"North Carolina\",\n",
    "    \"nd\": \"North Dakota\",\n",
    "    \"oh\": \"Ohio\",\n",
    "    \"ok\": \"Oklahoma\",\n",
    "    \"or\": \"Oregon\",\n",
    "    \"pa\": \"Pennsylvania\",\n",
    "    \"ri\": \"Rhode Island\",\n",
    "    \"sc\": \"South Carolina\",\n",
    "    \"sd\": \"South Dakota\",\n",
    "    \"tn\": \"Tennessee\",\n",
    "    \"tx\": \"Texas\",\n",
    "    \"ut\": \"Utah\",\n",
    "    \"vt\": \"Vermont\",\n",
    "    \"va\": \"Virginia\",\n",
    "    \"wa\": \"Washington\",\n",
    "    \"wv\": \"West Virginia\",\n",
    "    \"wi\": \"Wisconsin\",\n",
    "    \"wy\": \"Wyoming\",\n",
    "    \"dc\": \"District of Columbia\",\n",
    "    \"as\": \"American Samoa\",\n",
    "    \"gu\": \"Guam\",\n",
    "    \"mp\": \"Northern Mariana Islands\",\n",
    "    \"pr\": \"Puerto Rico\",\n",
    "    \"um\": \"United States Minor Outlying Islands\",\n",
    "    \"vi\": \"U.S. Virgin Islands\",\n",
    "}\n",
    "df['state'] = df['state'].str.lower().str.strip()\n",
    "df['state'] = df['state'].map(abbrev_to_us_State)"
   ],
   "metadata": {
    "collapsed": false
   },
   "id": "5f83b8067436eeca",
   "execution_count": null
  },
  {
   "cell_type": "markdown",
   "source": [
    "## Handling Outliers"
   ],
   "metadata": {
    "collapsed": false
   },
   "id": "39b179a7dc23f9cb"
  },
  {
   "cell_type": "code",
   "outputs": [],
   "source": [
    "df.describe()"
   ],
   "metadata": {
    "collapsed": false
   },
   "id": "301b84de7e194477",
   "execution_count": null
  },
  {
   "cell_type": "code",
   "outputs": [],
   "source": [
    "# Handling outliers in 'odometer' column\n",
    "px.box(df, x=df.odometer)"
   ],
   "metadata": {
    "collapsed": false
   },
   "id": "33845a45ce8280fc",
   "execution_count": null
  },
  {
   "cell_type": "code",
   "outputs": [],
   "source": [
    "df.drop(df[df.odometer >= 400000].index, inplace=True, axis=0)\n",
    "df.reset_index(inplace=True, drop=True)"
   ],
   "metadata": {
    "collapsed": false
   },
   "id": "58c123047be9aedd",
   "execution_count": null
  },
  {
   "cell_type": "code",
   "outputs": [],
   "source": [
    "# Handling outliers in 'sellingprice' column\n",
    "px.box(df, x=df.sellingprice)"
   ],
   "metadata": {
    "collapsed": false
   },
   "id": "ada1f9fe10d8ade1",
   "execution_count": null
  },
  {
   "cell_type": "code",
   "outputs": [],
   "source": [
    "df[df.sellingprice > 150000]"
   ],
   "metadata": {
    "collapsed": false
   },
   "id": "bcf671fb7a77b2fe",
   "execution_count": null
  },
  {
   "cell_type": "code",
   "outputs": [],
   "source": [
    "df.describe()"
   ],
   "metadata": {
    "collapsed": false
   },
   "id": "feab24867185edeb",
   "execution_count": null
  },
  {
   "cell_type": "markdown",
   "source": [
    "## Handling Missing Data"
   ],
   "metadata": {
    "collapsed": false
   },
   "id": "3aa059a5a87159ee"
  },
  {
   "cell_type": "code",
   "outputs": [],
   "source": [
    "# Handling missing data in 'color' and 'interior' columns using mode imputation\n",
    "df[df.color == '—'].shape[0]"
   ],
   "metadata": {
    "collapsed": false
   },
   "id": "d17e1705ae29e75c",
   "execution_count": null
  },
  {
   "cell_type": "code",
   "outputs": [],
   "source": [
    "df[df.interior == '—'].shape[0]"
   ],
   "metadata": {
    "collapsed": false
   },
   "id": "81b02b9e0ccb5b24",
   "execution_count": null
  },
  {
   "cell_type": "code",
   "outputs": [],
   "source": [
    "df[['color', 'interior']] = df[['color', 'interior']].replace('—', np.nan)"
   ],
   "metadata": {
    "collapsed": false
   },
   "id": "8c5a3e7faadeffb2",
   "execution_count": null
  },
  {
   "cell_type": "code",
   "outputs": [],
   "source": [
    "# Replacing with mode\n",
    "from sklearn.impute import SimpleImputer\n",
    "\n",
    "imputer = SimpleImputer(strategy='most_frequent')"
   ],
   "metadata": {
    "collapsed": false
   },
   "id": "fdcc2c5996d521be",
   "execution_count": null
  },
  {
   "cell_type": "code",
   "outputs": [],
   "source": [
    "df[['color', 'interior']] = imputer.fit_transform(df[['color', 'interior']])\n",
    "df.color.unique()"
   ],
   "metadata": {
    "collapsed": false
   },
   "id": "7072dca94a02c654",
   "execution_count": null
  },
  {
   "cell_type": "code",
   "outputs": [],
   "source": [
    "df.isnull().sum()"
   ],
   "metadata": {
    "collapsed": false
   },
   "id": "fcbc80ca547e967b",
   "execution_count": null
  },
  {
   "cell_type": "code",
   "outputs": [],
   "source": [
    "df.isnull().sum() / df.shape[0] * 100"
   ],
   "metadata": {
    "collapsed": false
   },
   "id": "8c098aa60926fdf9",
   "execution_count": null
  },
  {
   "cell_type": "code",
   "outputs": [],
   "source": [
    "df.columns"
   ],
   "metadata": {
    "collapsed": false
   },
   "id": "a3e5247ad53a09be",
   "execution_count": null
  },
  {
   "cell_type": "code",
   "outputs": [],
   "source": [
    "# Dropping rows from columns with less than 2% null values\n",
    "df.dropna(subset=['year', 'brand', 'model', 'state',\n",
    "                  'odometer', 'color', 'interior', 'seller', 'sellingprice', 'saledate'], inplace=True, axis=0)\n",
    "df.reset_index(inplace=True, drop=True)"
   ],
   "metadata": {
    "collapsed": false
   },
   "id": "8f360f059272613d",
   "execution_count": null
  },
  {
   "cell_type": "code",
   "outputs": [],
   "source": [
    "df.isnull().sum() / df.shape[0] * 100"
   ],
   "metadata": {
    "collapsed": false
   },
   "id": "ae1da76fd504208d",
   "execution_count": null
  },
  {
   "cell_type": "code",
   "outputs": [],
   "source": [
    "# Dropping from 'body' column as well\n",
    "df.dropna(subset=['body'], inplace=True, axis=0)\n",
    "df.reset_index(inplace=True, drop=True)"
   ],
   "metadata": {
    "collapsed": false
   },
   "id": "175c20d69ca69c46",
   "execution_count": null
  },
  {
   "cell_type": "code",
   "outputs": [],
   "source": [
    "df.isnull().sum() / df.shape[0] * 100"
   ],
   "metadata": {
    "collapsed": false
   },
   "id": "d2673ba68bdab387",
   "execution_count": null
  },
  {
   "cell_type": "code",
   "outputs": [],
   "source": [
    "# Handling missing values in 'condition' column using KNN imputation\n",
    "px.histogram(df, x='condition', nbins=10)"
   ],
   "metadata": {
    "collapsed": false
   },
   "id": "74af5cdca5f1cb11",
   "execution_count": null
  },
  {
   "cell_type": "code",
   "outputs": [],
   "source": [
    "from sklearn.impute import KNNImputer\n",
    "\n",
    "imputer = KNNImputer(n_neighbors=2)"
   ],
   "metadata": {
    "collapsed": false
   },
   "id": "6383434a918e9b1e",
   "execution_count": null
  },
  {
   "cell_type": "code",
   "outputs": [],
   "source": [
    "df.condition = imputer.fit_transform(df[['condition']])"
   ],
   "metadata": {
    "collapsed": false
   },
   "id": "a85e077fcf00ef44",
   "execution_count": null
  },
  {
   "cell_type": "code",
   "outputs": [],
   "source": [
    "df.isnull().sum() / df.shape[0] * 100"
   ],
   "metadata": {
    "collapsed": false
   },
   "id": "f1f9ec51501d8a0f",
   "execution_count": null
  },
  {
   "cell_type": "code",
   "outputs": [],
   "source": [
    "px.histogram(df, x='condition', nbins=10)"
   ],
   "metadata": {
    "collapsed": false
   },
   "id": "c3f1f07b755876f8",
   "execution_count": null
  },
  {
   "cell_type": "code",
   "outputs": [],
   "source": [
    "# Handling missing values in 'transmission' column based on other information\n",
    "px.pie(df, names='transmission')"
   ],
   "metadata": {
    "collapsed": false
   },
   "id": "5f2a3350e2bbe150",
   "execution_count": null
  },
  {
   "cell_type": "code",
   "outputs": [],
   "source": [
    "df.columns"
   ],
   "metadata": {
    "collapsed": false
   },
   "id": "2a9824354fc5591b",
   "execution_count": null
  },
  {
   "cell_type": "code",
   "outputs": [],
   "source": [
    "df['transmission'] = df.groupby(['year', 'brand', 'model'])['transmission'].transform(lambda x: x.fillna(x.iloc[0]))"
   ],
   "metadata": {
    "collapsed": false
   },
   "id": "ca7c7c8b1a6397d7",
   "execution_count": null
  },
  {
   "cell_type": "code",
   "outputs": [],
   "source": [
    "px.pie(df, names='transmission')"
   ],
   "metadata": {
    "collapsed": false
   },
   "id": "e8748f6a1ae46633",
   "execution_count": null
  },
  {
   "cell_type": "code",
   "outputs": [],
   "source": [
    "df.dropna(subset=['transmission'], inplace=True, axis=0)\n",
    "df.reset_index(inplace=True, drop=True)"
   ],
   "metadata": {
    "collapsed": false
   },
   "id": "3a448fe597b053fd",
   "execution_count": null
  },
  {
   "cell_type": "code",
   "outputs": [],
   "source": [
    "df.head()"
   ],
   "metadata": {
    "collapsed": false
   },
   "id": "7c123e6a0e7f8ab4",
   "execution_count": null
  },
  {
   "cell_type": "code",
   "outputs": [],
   "source": [
    "df.info()"
   ],
   "metadata": {
    "collapsed": false
   },
   "id": "a6ea10dcfa7abe7d",
   "execution_count": null
  },
  {
   "cell_type": "code",
   "outputs": [],
   "source": [
    "df.describe()"
   ],
   "metadata": {
    "collapsed": false
   },
   "id": "2a0f8e1890095bbe",
   "execution_count": null
  },
  {
   "cell_type": "code",
   "outputs": [],
   "source": [
    "# Saving the cleaned dataset to a new CSV file\n",
    "df.to_csv('Sources/car_prices_cleaned.csv')"
   ],
   "metadata": {
    "collapsed": false
   },
   "id": "24270a648dcced33",
   "execution_count": null
  },
  {
   "cell_type": "markdown",
   "source": [
    "# Analysis"
   ],
   "metadata": {
    "collapsed": false
   },
   "id": "f4656cc40330d89b"
  },
  {
   "cell_type": "markdown",
   "source": [
    "## Top Car Brands and Models Analysis"
   ],
   "metadata": {
    "collapsed": false
   },
   "id": "25a9c59d7a955e23"
  },
  {
   "cell_type": "markdown",
   "source": [
    "#### Most sold cars and Models"
   ],
   "metadata": {
    "collapsed": false
   },
   "id": "7c74c82df9ec8e41"
  },
  {
   "cell_type": "code",
   "outputs": [],
   "source": [
    "# Plotting histogram for top 25 car Brands\n",
    "top_brand = df['brand'].value_counts().nlargest(25).index\n",
    "top_brand = df[df['brand'].isin(top_brand)].reset_index(drop=True)"
   ],
   "metadata": {
    "collapsed": false
   },
   "id": "ec564f3bc4f2246f",
   "execution_count": null
  },
  {
   "cell_type": "code",
   "outputs": [],
   "source": [
    "fig = px.histogram(top_brand, x='brand', color='brand')\n",
    "fig.update_layout(\n",
    "    title='Cars Sold For Each Brand',\n",
    "    xaxis_title='brand',\n",
    "    yaxis_title='Cars Sold',\n",
    "    title_x=0.5\n",
    ")\n",
    "fig.show()"
   ],
   "metadata": {
    "collapsed": false
   },
   "id": "b906363b67baf3f7",
   "execution_count": null
  },
  {
   "cell_type": "code",
   "outputs": [],
   "source": [
    "# Plotting histogram for top 25 car Models\n",
    "top_model = df['model'].value_counts().nlargest(25).index\n",
    "top_model = df[df['model'].isin(top_model)].reset_index(drop=True)"
   ],
   "metadata": {
    "collapsed": false
   },
   "id": "abf16f12459bc9f5",
   "execution_count": null
  },
  {
   "cell_type": "code",
   "outputs": [],
   "source": [
    "fig = px.histogram(top_model, x='model', color='model')\n",
    "fig.update_layout(\n",
    "    title='Cars Sold For Each Model',\n",
    "    xaxis_title='Model',\n",
    "    yaxis_title='Cars Sold',\n",
    "    title_x=0.5,\n",
    ")\n",
    "fig.show()"
   ],
   "metadata": {
    "collapsed": false
   },
   "id": "3f182fa943ee0016",
   "execution_count": null
  },
  {
   "cell_type": "markdown",
   "source": [
    "#### Favourite Body types"
   ],
   "metadata": {
    "collapsed": false
   },
   "id": "fe6939b5a30d087"
  },
  {
   "cell_type": "code",
   "outputs": [],
   "source": [
    "# Plotting pie chart for top 4 Body types\n",
    "top_body = df['body'].value_counts().nlargest(4).index\n",
    "top_body = df[df['body'].isin(top_body)].reset_index(drop=True)\n",
    "body_counts = top_body['body'].value_counts()"
   ],
   "metadata": {
    "collapsed": false
   },
   "id": "b1232499ce1ea103",
   "execution_count": null
  },
  {
   "cell_type": "code",
   "outputs": [],
   "source": [
    "fig = px.pie(top_body, values=body_counts.values, names=body_counts.index)\n",
    "fig.update_layout(\n",
    "    title='Cars Sold For Each Body Type',\n",
    "    title_x=0.5\n",
    ")\n",
    "fig.show()"
   ],
   "metadata": {
    "collapsed": false
   },
   "id": "f667e60dcebc69b",
   "execution_count": null
  },
  {
   "cell_type": "markdown",
   "source": [
    "#### Favourite Color"
   ],
   "metadata": {
    "collapsed": false
   },
   "id": "49b296f33d9301b"
  },
  {
   "cell_type": "code",
   "outputs": [],
   "source": [
    "#Mapping Colors\n",
    "available_color = [\"aliceblue\", \"antiquewhite\", \"aqua\", \"aquamarine\", \"azure\",\n",
    "                   \"beige\", \"bisque\", \"black\", \"blanchedalmond\", \"blue\",\n",
    "                   \"blueviolet\", \"brown\", \"burlywood\", \"cadetblue\",\n",
    "                   \"chartreuse\", \"chocolate\", \"coral\", \"cornflowerblue\",\n",
    "                   \"cornsilk\", \"crimson\", \"cyan\", \"darkblue\", \"darkcyan\",\n",
    "                   \"darkgoldenrod\", \"darkgray\", \"darkgrey\", \"darkgreen\",\n",
    "                   \"darkkhaki\", \"darkmagenta\", \"darkolivegreen\", \"darkorange\",\n",
    "                   \"darkorchid\", \"darkred\", \"darksalmon\", \"darkseagreen\",\n",
    "                   \"darkslateblue\", \"darkslategray\", \"darkslategrey\",\n",
    "                   \"darkturquoise\", \"darkviolet\", \"deeppink\", \"deepskyblue\",\n",
    "                   \"dimgray\", \"dimgrey\", \"dodgerblue\", \"firebrick\",\n",
    "                   \"floralwhite\", \"forestgreen\", \"fuchsia\", \"gainsboro\",\n",
    "                   \"ghostwhite\", \"gold\", \"goldenrod\", \"gray\", \"grey\", \"green\",\n",
    "                   \"greenyellow\", \"honeydew\", \"hotpink\", \"indianred\", \"indigo\",\n",
    "                   \"ivory\", \"khaki\", \"lavender\", \"lavenderblush\", \"lawngreen\",\n",
    "                   \"lemonchiffon\", \"lightblue\", \"lightcoral\", \"lightcyan\",\n",
    "                   \"lightgoldenrodyellow\", \"lightgray\", \"lightgrey\",\n",
    "                   \"lightgreen\", \"lightpink\", \"lightsalmon\", \"lightseagreen\",\n",
    "                   \"lightskyblue\", \"lightslategray\", \"lightslategrey\",\n",
    "                   \"lightsteelblue\", \"lightyellow\", \"lime\", \"limegreen\",\n",
    "                   \"linen\", \"magenta\", \"maroon\", \"mediumaquamarine\",\n",
    "                   \"mediumblue\", \"mediumorchid\", \"mediumpurple\",\n",
    "                   \"mediumseagreen\", \"mediumslateblue\", \"mediumspringgreen\",\n",
    "                   \"mediumturquoise\", \"mediumvioletred\", \"midnightblue\",\n",
    "                   \"mintcream\", \"mistyrose\", \"moccasin\", \"navajowhite\", \"navy\",\n",
    "                   \"oldlace\", \"olive\", \"olivedrab\", \"orange\", \"orangered\",\n",
    "                   \"orchid\", \"palegoldenrod\", \"palegreen\", \"paleturquoise\",\n",
    "                   \"palevioletred\", \"papayawhip\", \"peachpuff\", \"peru\", \"pink\",\n",
    "                   \"plum\", \"powderblue\", \"purple\", \"red\", \"rosybrown\",\n",
    "                   \"royalblue\", \"rebeccapurple\", \"saddlebrown\", \"salmon\",\n",
    "                   \"sandybrown\", \"seagreen\", \"seashell\", \"sienna\", \"silver\",\n",
    "                   \"skyblue\", \"slateblue\", \"slategray\", \"slategrey\", \"snow\",\n",
    "                   \"springgreen\", \"steelblue\", \"tan\", \"teal\", \"thistle\", \"tomato\",\n",
    "                   \"turquoise\", \"violet\", \"wheat\", \"white\", \"whitesmoke\",\n",
    "                   \"yellow\", \"yellowgreen\"\n",
    "                   ]"
   ],
   "metadata": {
    "collapsed": false
   },
   "id": "98fe7c658fe99e1b",
   "execution_count": null
  },
  {
   "cell_type": "code",
   "outputs": [],
   "source": [
    "color_map = {'Burgundy': 'darkred', 'Charcoal': 'olive', 'Off-White': 'whitesmoke'}\n",
    "unique_colors = df['color'].unique()\n",
    "for color in unique_colors:\n",
    "    if color.lower() in available_color:\n",
    "        color_map[color] = color.lower()"
   ],
   "metadata": {
    "collapsed": false
   },
   "id": "3ab3f14e9b92f361",
   "execution_count": null
  },
  {
   "cell_type": "code",
   "outputs": [],
   "source": [
    "# Plotting pie chart for top 4 Colors\n",
    "top_color = df['color'].value_counts().nlargest(4).index\n",
    "top_color = df[df['color'].isin(top_color)].reset_index(drop=True)\n",
    "color_counts = top_color['color'].value_counts()"
   ],
   "metadata": {
    "collapsed": false
   },
   "id": "e3f0566abf522689",
   "execution_count": null
  },
  {
   "cell_type": "code",
   "outputs": [],
   "source": [
    "fig = px.pie(top_color, values=color_counts.values, names=color_counts.index, color=color_counts.index,\n",
    "             color_discrete_map=color_map)\n",
    "fig.update_layout(\n",
    "    title='Cars Sold For Each Color Type',\n",
    "    title_x=0.5\n",
    ")\n",
    "fig.show()"
   ],
   "metadata": {
    "collapsed": false
   },
   "id": "94822658ccb8c141",
   "execution_count": null
  },
  {
   "cell_type": "code",
   "outputs": [],
   "source": [
    "# Plotting pie chart for top 4 interior Colors\n",
    "top_interior = df['interior'].value_counts().nlargest(4).index\n",
    "top_interior = df[df['interior'].isin(top_interior)].reset_index(drop=True)\n",
    "interior_counts = top_interior['interior'].value_counts()"
   ],
   "metadata": {
    "collapsed": false
   },
   "id": "3ff66d83676cc93d",
   "execution_count": null
  },
  {
   "cell_type": "code",
   "outputs": [],
   "source": [
    "fig = px.pie(top_interior, values=interior_counts.values, names=interior_counts.index, color=interior_counts.index,\n",
    "             color_discrete_map=color_map)\n",
    "fig.update_layout(\n",
    "    title='Cars Sold For Each interior Type',\n",
    "    title_x=0.5\n",
    ")\n",
    "fig.show()"
   ],
   "metadata": {
    "collapsed": false
   },
   "id": "c27ed94b637f33c",
   "execution_count": null
  },
  {
   "cell_type": "markdown",
   "source": [
    "## Total Sales Analysis"
   ],
   "metadata": {
    "collapsed": false
   },
   "id": "e1f5e62b3efe97ea"
  },
  {
   "cell_type": "markdown",
   "source": [
    "#### Top Brands and Model by sales"
   ],
   "metadata": {
    "collapsed": false
   },
   "id": "788729f780b56684"
  },
  {
   "cell_type": "code",
   "outputs": [],
   "source": [
    "# Calculating total sales by car Brand\n",
    "total_sales_brand = df.groupby('brand')['sellingprice'].sum().reset_index()\n",
    "total_sales_brand = total_sales_brand.nlargest(20, 'sellingprice')"
   ],
   "metadata": {
    "collapsed": false
   },
   "id": "c872237269d9899",
   "execution_count": null
  },
  {
   "cell_type": "code",
   "outputs": [],
   "source": [
    "fig = px.bar(total_sales_brand, x='brand', y='sellingprice',\n",
    "             title='Total Sales by Car Brand (Top 20)',\n",
    "             labels={'sellingprice': 'Total Sales', 'brand': 'Car Brand'},\n",
    "             color='brand')\n",
    "fig.update_layout(title_x=0.5)\n",
    "fig.show()"
   ],
   "metadata": {
    "collapsed": false
   },
   "id": "cbb709f4d927f7e7",
   "execution_count": null
  },
  {
   "cell_type": "code",
   "outputs": [],
   "source": [
    "# Calculating total sales by car Model\n",
    "total_sales_model = df.groupby('model')['sellingprice'].sum().reset_index()\n",
    "total_sales_model = total_sales_model.nlargest(25, 'sellingprice')"
   ],
   "metadata": {
    "collapsed": false
   },
   "id": "45ae2448687dc3cb",
   "execution_count": null
  },
  {
   "cell_type": "code",
   "outputs": [],
   "source": [
    "fig = px.bar(total_sales_model, x='model', y='sellingprice',\n",
    "             title='Total Sales by Car Model',\n",
    "             labels={'sellingprice': 'Total Sales', 'model': 'Car Model'},\n",
    "             color='model')\n",
    "fig.update_layout(title_x=0.5)\n",
    "fig.show()"
   ],
   "metadata": {
    "collapsed": false
   },
   "id": "ce20139350b058c0",
   "execution_count": null
  },
  {
   "cell_type": "markdown",
   "source": [
    "#### Days and months distribution"
   ],
   "metadata": {
    "collapsed": false
   },
   "id": "f7f392bf7a1b73cc"
  },
  {
   "cell_type": "code",
   "outputs": [],
   "source": [
    "# Plotting pie chart for number of cars sold on each day\n",
    "daily_sales = df.groupby('day').size().reset_index(name='count')"
   ],
   "metadata": {
    "collapsed": false
   },
   "id": "d62e001705f66108",
   "execution_count": null
  },
  {
   "cell_type": "code",
   "outputs": [],
   "source": [
    "fig = px.pie(daily_sales, values='count', names='day',\n",
    "             title='Number of Cars Sold on Each Day', hole=0.4)\n",
    "fig.show()"
   ],
   "metadata": {
    "collapsed": false
   },
   "id": "6a9015472f5e28c7",
   "execution_count": null
  },
  {
   "cell_type": "code",
   "outputs": [],
   "source": [
    "# Plotting bar chart for number of cars sold on each month\n",
    "month_order = ['January', 'February', 'March', 'April', 'May', 'June', 'July', 'August', 'September', 'October',\n",
    "               'November', 'December']\n",
    "monthly_sales = df.groupby('month').size().reset_index(name='count')\n",
    "monthly_sales['month'] = pd.Categorical(monthly_sales['month'], categories=month_order, ordered=True)\n",
    "monthly_sales = monthly_sales.sort_values('month')"
   ],
   "metadata": {
    "collapsed": false
   },
   "id": "8cb559040cd01f23",
   "execution_count": null
  },
  {
   "cell_type": "code",
   "outputs": [],
   "source": [
    "fig = px.bar(monthly_sales, y='count', x='month',\n",
    "             title='Number of Cars Sold on Each Month',\n",
    "             labels={'month': 'Month', 'count': 'Cars Sold'},\n",
    "             color='month')\n",
    "fig.show()"
   ],
   "metadata": {
    "collapsed": false
   },
   "id": "b7b62e30a546369b",
   "execution_count": null
  },
  {
   "cell_type": "markdown",
   "source": [
    "## Price Analysis"
   ],
   "metadata": {
    "collapsed": false
   },
   "id": "2864ee167771b478"
  },
  {
   "cell_type": "markdown",
   "source": [
    "#### What is the average selling price for each car Brand and Model"
   ],
   "metadata": {
    "collapsed": false
   },
   "id": "7d9c03c720f8454d"
  },
  {
   "cell_type": "code",
   "outputs": [],
   "source": [
    "# Calculating average selling price by car Brand\n",
    "avg_price_brand = df.groupby('brand')['sellingprice'].mean().reset_index()\n",
    "avg_price_brand = avg_price_brand.sort_values('sellingprice', ascending=False).head(5)"
   ],
   "metadata": {
    "collapsed": false
   },
   "id": "666a410c52127d65",
   "execution_count": null
  },
  {
   "cell_type": "code",
   "outputs": [],
   "source": [
    "fig = px.bar(avg_price_brand, x='brand', y='sellingprice',\n",
    "             title='Average Selling Price by Brand',\n",
    "             labels={'sellingprice': 'Average Selling Price', 'brand': 'Brand'},\n",
    "             color='brand')\n",
    "fig.show()"
   ],
   "metadata": {
    "collapsed": false
   },
   "id": "b31cd383ebed561e",
   "execution_count": null
  },
  {
   "cell_type": "code",
   "outputs": [],
   "source": [
    "# Calculating average selling price by car Model\n",
    "avg_price_model = df.groupby('model')['sellingprice'].mean().reset_index()\n",
    "avg_price_model = avg_price_model.sort_values('sellingprice', ascending=False).head(5)"
   ],
   "metadata": {
    "collapsed": false
   },
   "id": "92dc0907018f6d4",
   "execution_count": null
  },
  {
   "cell_type": "code",
   "outputs": [],
   "source": [
    "fig = px.bar(avg_price_model, x='model', y='sellingprice',\n",
    "             title='Average Selling Price by Model',\n",
    "             labels={'sellingprice': 'Average Selling Price', 'model': 'Model'},\n",
    "             color='model')\n",
    "fig.show()"
   ],
   "metadata": {
    "collapsed": false
   },
   "id": "8a38ee6bfc84fb75",
   "execution_count": null
  },
  {
   "cell_type": "markdown",
   "source": [
    "#### relation between Odometer and selling price"
   ],
   "metadata": {
    "collapsed": false
   },
   "id": "ec58ce2169574f26"
  },
  {
   "cell_type": "code",
   "outputs": [],
   "source": [
    "# Plotting scatter plot to visualize the correlation between Odometer readings and selling prices\n",
    "fig = px.scatter(df, x='odometer', y='sellingprice',\n",
    "                 title='Correlation between Odometer Readings and Selling Prices',\n",
    "                 labels={'odometer': 'Odometer (miles)', 'sellingprice': 'Selling Price'})\n",
    "fig.show()"
   ],
   "metadata": {
    "collapsed": false
   },
   "id": "293258a9b7054c0",
   "execution_count": null
  },
  {
   "cell_type": "code",
   "outputs": [],
   "source": [
    "# Calculating average selling price by condition\n",
    "average_selling_price_by_condition = df.groupby('condition')['sellingprice'].mean().reset_index()\n",
    "\n",
    "# Plotting line graph to visualize the relationship between condition and average selling price\n",
    "fig = px.line(average_selling_price_by_condition, x='condition', y='sellingprice',\n",
    "              title='Relation between Condition and Average Selling Price',\n",
    "              labels={'condition': 'Condition', 'sellingprice': 'Average Selling Price'})\n",
    "fig.show()"
   ],
   "metadata": {
    "collapsed": false
   },
   "id": "cedf38feb1bd0345",
   "execution_count": null
  },
  {
   "cell_type": "markdown",
   "source": [
    "#### relation between Color and selling price"
   ],
   "metadata": {
    "collapsed": false
   },
   "id": "e77c0fb2c284d7fa"
  },
  {
   "cell_type": "code",
   "outputs": [],
   "source": [
    "# Calculating average selling price by Color\n",
    "average_selling_price_by_color = df.groupby('color')['sellingprice'].mean().reset_index()\n",
    "average_selling_price_by_color = average_selling_price_by_color.sort_values('sellingprice', ascending=False).head(20)\n",
    "\n",
    "fig = px.bar(average_selling_price_by_color,\n",
    "             x='color',\n",
    "             y='sellingprice',\n",
    "             title='Top 20 Colors by Average Selling Price',\n",
    "             labels={'color': 'Color', 'sellingprice': 'Average Selling Price'},\n",
    "             color='color',\n",
    "             color_discrete_map=color_map)\n",
    "fig.show()\n"
   ],
   "metadata": {
    "collapsed": false
   },
   "id": "807b03d4f2795922",
   "execution_count": null
  },
  {
   "cell_type": "code",
   "outputs": [],
   "source": [
    "# Calculating average selling price by interior Color\n",
    "average_selling_price_by_interior = df.groupby('interior')['sellingprice'].mean().reset_index()\n",
    "average_selling_price_by_interior = average_selling_price_by_interior.sort_values('sellingprice', ascending=False).head(\n",
    "    20)\n",
    "\n",
    "fig = px.bar(average_selling_price_by_interior, x='interior', y='sellingprice',\n",
    "             title='Average Selling Price by interior',\n",
    "             labels={'interior': 'interior', 'sellingprice': 'Average Selling Price'},\n",
    "             color='interior',\n",
    "             color_discrete_map=color_map)\n",
    "\n",
    "fig.show()"
   ],
   "metadata": {
    "collapsed": false
   },
   "id": "3f7361bc42ead46e",
   "execution_count": null
  },
  {
   "cell_type": "markdown",
   "source": [
    "## Sellers Analysis"
   ],
   "metadata": {
    "collapsed": false
   },
   "id": "7a077bf27207a544"
  },
  {
   "cell_type": "markdown",
   "source": [
    "#### Top sellers"
   ],
   "metadata": {
    "collapsed": false
   },
   "id": "db256e5d41b848ae"
  },
  {
   "cell_type": "code",
   "outputs": [],
   "source": [
    "# Calculating total number of vehicles sold by each seller\n",
    "vehicles_sold_by_seller = df['seller'].value_counts().reset_index().head(10)\n",
    "vehicles_sold_by_seller.columns = ['seller', 'vehicles_sold']\n",
    "\n",
    "fig = px.bar(vehicles_sold_by_seller, x='seller', y='vehicles_sold',\n",
    "             title='Total Number of Vehicles Sold by Each Seller',\n",
    "             color='seller')\n",
    "fig.update_layout(xaxis_title='Seller', yaxis_title='Total Number of Vehicles Sold')\n",
    "fig.show()"
   ],
   "metadata": {
    "collapsed": false
   },
   "id": "229f8902e9970a96",
   "execution_count": null
  },
  {
   "cell_type": "markdown",
   "source": [
    "#### Total Sales By seller"
   ],
   "metadata": {
    "collapsed": false
   },
   "id": "cb19e15d3354a100"
  },
  {
   "cell_type": "code",
   "outputs": [],
   "source": [
    "# Calculating total sales by each seller\n",
    "top_sellers_sales = df.groupby('seller')['sellingprice'].sum().reset_index()\n",
    "top_sellers_sales = top_sellers_sales.nlargest(10, 'sellingprice')\n",
    "\n",
    "fig = px.bar(top_sellers_sales, x='seller', y='sellingprice',\n",
    "             title='Top 10 Sellers - Total Sales',\n",
    "             color='sellingprice')\n",
    "fig.update_layout(xaxis_title='Seller', yaxis_title='Total Sales ($)')\n",
    "\n",
    "fig.show()"
   ],
   "metadata": {
    "collapsed": false
   },
   "id": "34ae21045729dcfb",
   "execution_count": null
  },
  {
   "cell_type": "markdown",
   "source": [
    "#### Avg odometer for each seller"
   ],
   "metadata": {
    "collapsed": false
   },
   "id": "4c2675ba4837c53"
  },
  {
   "cell_type": "code",
   "outputs": [],
   "source": [
    "# Calculating average odometer for each seller\n",
    "average_odometer_by_seller = df.groupby('seller')['odometer'].mean().reset_index()\n",
    "average_odometer_by_seller = average_odometer_by_seller.nlargest(5, 'odometer')\n",
    "fig = px.bar(average_odometer_by_seller, x='seller', y='odometer',\n",
    "             title='Average Vehicle Odometer by Seller',\n",
    "             labels={'seller': 'Seller', 'odometer': 'Average odometer', },\n",
    "             color='odometer',\n",
    "             color_continuous_scale='ice')\n",
    "\n",
    "fig.show()"
   ],
   "metadata": {
    "collapsed": false
   },
   "id": "5cdabc0ac919da7",
   "execution_count": null
  },
  {
   "cell_type": "markdown",
   "source": [
    "## States Analysis"
   ],
   "metadata": {
    "collapsed": false
   },
   "id": "589111ea4e54d1c2"
  },
  {
   "cell_type": "markdown",
   "source": [
    "#### Sales for each State"
   ],
   "metadata": {
    "collapsed": false
   },
   "id": "35236789ec91b566"
  },
  {
   "cell_type": "code",
   "outputs": [],
   "source": [
    "# Calculating total sales revenue by state\n",
    "top_states_by_revenue = df.groupby('state')['sellingprice'].sum().reset_index()\n",
    "top_states_by_revenue = top_states_by_revenue.sort_values(by='sellingprice', ascending=False)\n",
    "\n",
    "fig = px.bar(top_states_by_revenue.head(10), x='state', y='sellingprice',\n",
    "             title='Top states by Total Sales Revenue',\n",
    "             labels={'state': 'State', 'sellingprice': 'Total Sales Revenue'},\n",
    "             color='state')\n",
    "\n",
    "fig.show()"
   ],
   "metadata": {
    "collapsed": false
   },
   "id": "1e5589360af42535",
   "execution_count": null
  },
  {
   "cell_type": "markdown",
   "source": [
    "#### avg condition for each state"
   ],
   "metadata": {
    "collapsed": false
   },
   "id": "aaf9f0ebab5673aa"
  },
  {
   "cell_type": "code",
   "outputs": [],
   "source": [
    "# Calculating average condition for each state\n",
    "top_states_con = df.groupby('state')['condition'].mean().reset_index().head(5)\n",
    "\n",
    "top_states_con = top_states_con.sort_values('condition', ascending=False)\n",
    "\n",
    "fig = px.bar(top_states_con, x='state', y='condition',\n",
    "             title='Top 5 States with Highest Average Vehicle Condition',\n",
    "             labels={'state': 'State', 'condition': 'Average Condition'},\n",
    "             color='state')\n",
    "\n",
    "fig.show()"
   ],
   "metadata": {
    "collapsed": false
   },
   "id": "3cd649c4a006e6f4",
   "execution_count": null
  },
  {
   "cell_type": "markdown",
   "source": [
    "#### avg price for each state"
   ],
   "metadata": {
    "collapsed": false
   },
   "id": "e5c1e71fbea6fdde"
  },
  {
   "cell_type": "code",
   "outputs": [],
   "source": [
    "# Calculating average selling price of vehicles by state\n",
    "top_states_avg_price = df.groupby('state')['sellingprice'].mean().reset_index()\n",
    "top_states_avg_price = top_states_avg_price.sort_values(by='sellingprice', ascending=False).head(5)\n",
    "\n",
    "fig = px.bar(top_states_avg_price, x='state', y='sellingprice',\n",
    "             title='Average Selling Price of Vehicles by State',\n",
    "             labels={'state': 'State', 'sellingprice': 'Average Selling Price'},\n",
    "             color='state')\n",
    "\n",
    "fig.show()"
   ],
   "metadata": {
    "collapsed": false
   },
   "id": "ff7627313c31d4fa",
   "execution_count": null
  }
 ],
 "metadata": {
  "kernelspec": {
   "display_name": "Python 3",
   "language": "python",
   "name": "python3"
  },
  "language_info": {
   "codemirror_mode": {
    "name": "ipython",
    "version": 2
   },
   "file_extension": ".py",
   "mimetype": "text/x-python",
   "name": "python",
   "nbconvert_exporter": "python",
   "pygments_lexer": "ipython2",
   "version": "2.7.6"
  }
 },
 "nbformat": 4,
 "nbformat_minor": 5
}
